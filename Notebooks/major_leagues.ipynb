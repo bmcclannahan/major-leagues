{
 "cells": [
  {
   "cell_type": "code",
   "execution_count": 1,
   "metadata": {},
   "outputs": [],
   "source": [
    "import numpy as np\n",
    "import pandas as pd\n",
    "from sklearn.linear_model import LinearRegression"
   ]
  },
  {
   "cell_type": "markdown",
   "metadata": {},
   "source": [
    "# Load data"
   ]
  },
  {
   "cell_type": "code",
   "execution_count": 2,
   "metadata": {},
   "outputs": [],
   "source": [
    "df_initial_elos = pd.read_csv(\"C:/github/EECS731/major-leagues/Data/initial_elos.csv\")\n",
    "df_nfl_games = pd.read_csv(\"C:/github/EECS731/major-leagues/Data/nfl_games.csv\")"
   ]
  },
  {
   "cell_type": "code",
   "execution_count": 3,
   "metadata": {},
   "outputs": [
    {
     "data": {
      "text/html": [
       "<div>\n",
       "<style scoped>\n",
       "    .dataframe tbody tr th:only-of-type {\n",
       "        vertical-align: middle;\n",
       "    }\n",
       "\n",
       "    .dataframe tbody tr th {\n",
       "        vertical-align: top;\n",
       "    }\n",
       "\n",
       "    .dataframe thead th {\n",
       "        text-align: right;\n",
       "    }\n",
       "</style>\n",
       "<table border=\"1\" class=\"dataframe\">\n",
       "  <thead>\n",
       "    <tr style=\"text-align: right;\">\n",
       "      <th></th>\n",
       "      <th>team</th>\n",
       "      <th>elo</th>\n",
       "    </tr>\n",
       "  </thead>\n",
       "  <tbody>\n",
       "    <tr>\n",
       "      <td>0</td>\n",
       "      <td>RII</td>\n",
       "      <td>1503.947</td>\n",
       "    </tr>\n",
       "    <tr>\n",
       "      <td>1</td>\n",
       "      <td>STP</td>\n",
       "      <td>1300.000</td>\n",
       "    </tr>\n",
       "    <tr>\n",
       "      <td>2</td>\n",
       "      <td>BFF</td>\n",
       "      <td>1478.004</td>\n",
       "    </tr>\n",
       "    <tr>\n",
       "      <td>3</td>\n",
       "      <td>WBU</td>\n",
       "      <td>1300.000</td>\n",
       "    </tr>\n",
       "    <tr>\n",
       "      <td>4</td>\n",
       "      <td>RCH</td>\n",
       "      <td>1503.420</td>\n",
       "    </tr>\n",
       "    <tr>\n",
       "      <td>...</td>\n",
       "      <td>...</td>\n",
       "      <td>...</td>\n",
       "    </tr>\n",
       "    <tr>\n",
       "      <td>118</td>\n",
       "      <td>SEA</td>\n",
       "      <td>1300.000</td>\n",
       "    </tr>\n",
       "    <tr>\n",
       "      <td>119</td>\n",
       "      <td>CAR</td>\n",
       "      <td>1300.000</td>\n",
       "    </tr>\n",
       "    <tr>\n",
       "      <td>120</td>\n",
       "      <td>JAX</td>\n",
       "      <td>1300.000</td>\n",
       "    </tr>\n",
       "    <tr>\n",
       "      <td>121</td>\n",
       "      <td>BAL</td>\n",
       "      <td>1432.223</td>\n",
       "    </tr>\n",
       "    <tr>\n",
       "      <td>122</td>\n",
       "      <td>HOU</td>\n",
       "      <td>1300.000</td>\n",
       "    </tr>\n",
       "  </tbody>\n",
       "</table>\n",
       "<p>123 rows × 2 columns</p>\n",
       "</div>"
      ],
      "text/plain": [
       "    team       elo\n",
       "0    RII  1503.947\n",
       "1    STP  1300.000\n",
       "2    BFF  1478.004\n",
       "3    WBU  1300.000\n",
       "4    RCH  1503.420\n",
       "..   ...       ...\n",
       "118  SEA  1300.000\n",
       "119  CAR  1300.000\n",
       "120  JAX  1300.000\n",
       "121  BAL  1432.223\n",
       "122  HOU  1300.000\n",
       "\n",
       "[123 rows x 2 columns]"
      ]
     },
     "execution_count": 3,
     "metadata": {},
     "output_type": "execute_result"
    }
   ],
   "source": [
    "df_initial_elos"
   ]
  },
  {
   "cell_type": "code",
   "execution_count": 4,
   "metadata": {},
   "outputs": [
    {
     "data": {
      "text/html": [
       "<div>\n",
       "<style scoped>\n",
       "    .dataframe tbody tr th:only-of-type {\n",
       "        vertical-align: middle;\n",
       "    }\n",
       "\n",
       "    .dataframe tbody tr th {\n",
       "        vertical-align: top;\n",
       "    }\n",
       "\n",
       "    .dataframe thead th {\n",
       "        text-align: right;\n",
       "    }\n",
       "</style>\n",
       "<table border=\"1\" class=\"dataframe\">\n",
       "  <thead>\n",
       "    <tr style=\"text-align: right;\">\n",
       "      <th></th>\n",
       "      <th>date</th>\n",
       "      <th>season</th>\n",
       "      <th>neutral</th>\n",
       "      <th>playoff</th>\n",
       "      <th>team1</th>\n",
       "      <th>team2</th>\n",
       "      <th>elo1</th>\n",
       "      <th>elo2</th>\n",
       "      <th>elo_prob1</th>\n",
       "      <th>score1</th>\n",
       "      <th>score2</th>\n",
       "      <th>result1</th>\n",
       "    </tr>\n",
       "  </thead>\n",
       "  <tbody>\n",
       "    <tr>\n",
       "      <td>0</td>\n",
       "      <td>1920-09-26</td>\n",
       "      <td>1920</td>\n",
       "      <td>0</td>\n",
       "      <td>0</td>\n",
       "      <td>RII</td>\n",
       "      <td>STP</td>\n",
       "      <td>1503.947000</td>\n",
       "      <td>1300.000000</td>\n",
       "      <td>0.824651</td>\n",
       "      <td>48</td>\n",
       "      <td>0</td>\n",
       "      <td>1.0</td>\n",
       "    </tr>\n",
       "    <tr>\n",
       "      <td>1</td>\n",
       "      <td>1920-10-03</td>\n",
       "      <td>1920</td>\n",
       "      <td>0</td>\n",
       "      <td>0</td>\n",
       "      <td>AKR</td>\n",
       "      <td>WHE</td>\n",
       "      <td>1503.420000</td>\n",
       "      <td>1300.000000</td>\n",
       "      <td>0.824212</td>\n",
       "      <td>43</td>\n",
       "      <td>0</td>\n",
       "      <td>1.0</td>\n",
       "    </tr>\n",
       "    <tr>\n",
       "      <td>2</td>\n",
       "      <td>1920-10-03</td>\n",
       "      <td>1920</td>\n",
       "      <td>0</td>\n",
       "      <td>0</td>\n",
       "      <td>RCH</td>\n",
       "      <td>ABU</td>\n",
       "      <td>1503.420000</td>\n",
       "      <td>1300.000000</td>\n",
       "      <td>0.824212</td>\n",
       "      <td>10</td>\n",
       "      <td>0</td>\n",
       "      <td>1.0</td>\n",
       "    </tr>\n",
       "    <tr>\n",
       "      <td>3</td>\n",
       "      <td>1920-10-03</td>\n",
       "      <td>1920</td>\n",
       "      <td>0</td>\n",
       "      <td>0</td>\n",
       "      <td>DAY</td>\n",
       "      <td>COL</td>\n",
       "      <td>1493.002000</td>\n",
       "      <td>1504.908000</td>\n",
       "      <td>0.575819</td>\n",
       "      <td>14</td>\n",
       "      <td>0</td>\n",
       "      <td>1.0</td>\n",
       "    </tr>\n",
       "    <tr>\n",
       "      <td>4</td>\n",
       "      <td>1920-10-03</td>\n",
       "      <td>1920</td>\n",
       "      <td>0</td>\n",
       "      <td>0</td>\n",
       "      <td>RII</td>\n",
       "      <td>MUN</td>\n",
       "      <td>1516.108000</td>\n",
       "      <td>1478.004000</td>\n",
       "      <td>0.644171</td>\n",
       "      <td>45</td>\n",
       "      <td>0</td>\n",
       "      <td>1.0</td>\n",
       "    </tr>\n",
       "    <tr>\n",
       "      <td>...</td>\n",
       "      <td>...</td>\n",
       "      <td>...</td>\n",
       "      <td>...</td>\n",
       "      <td>...</td>\n",
       "      <td>...</td>\n",
       "      <td>...</td>\n",
       "      <td>...</td>\n",
       "      <td>...</td>\n",
       "      <td>...</td>\n",
       "      <td>...</td>\n",
       "      <td>...</td>\n",
       "      <td>...</td>\n",
       "    </tr>\n",
       "    <tr>\n",
       "      <td>16269</td>\n",
       "      <td>2019-01-13</td>\n",
       "      <td>2018</td>\n",
       "      <td>0</td>\n",
       "      <td>1</td>\n",
       "      <td>NE</td>\n",
       "      <td>LAC</td>\n",
       "      <td>1640.171960</td>\n",
       "      <td>1647.624483</td>\n",
       "      <td>0.582068</td>\n",
       "      <td>41</td>\n",
       "      <td>28</td>\n",
       "      <td>1.0</td>\n",
       "    </tr>\n",
       "    <tr>\n",
       "      <td>16270</td>\n",
       "      <td>2019-01-13</td>\n",
       "      <td>2018</td>\n",
       "      <td>0</td>\n",
       "      <td>1</td>\n",
       "      <td>NO</td>\n",
       "      <td>PHI</td>\n",
       "      <td>1669.105861</td>\n",
       "      <td>1633.114673</td>\n",
       "      <td>0.641378</td>\n",
       "      <td>20</td>\n",
       "      <td>14</td>\n",
       "      <td>1.0</td>\n",
       "    </tr>\n",
       "    <tr>\n",
       "      <td>16271</td>\n",
       "      <td>2019-01-20</td>\n",
       "      <td>2018</td>\n",
       "      <td>0</td>\n",
       "      <td>1</td>\n",
       "      <td>NO</td>\n",
       "      <td>LAR</td>\n",
       "      <td>1682.450194</td>\n",
       "      <td>1648.424105</td>\n",
       "      <td>0.638772</td>\n",
       "      <td>23</td>\n",
       "      <td>26</td>\n",
       "      <td>0.0</td>\n",
       "    </tr>\n",
       "    <tr>\n",
       "      <td>16272</td>\n",
       "      <td>2019-01-20</td>\n",
       "      <td>2018</td>\n",
       "      <td>0</td>\n",
       "      <td>1</td>\n",
       "      <td>KC</td>\n",
       "      <td>NE</td>\n",
       "      <td>1675.286412</td>\n",
       "      <td>1661.668566</td>\n",
       "      <td>0.611248</td>\n",
       "      <td>31</td>\n",
       "      <td>37</td>\n",
       "      <td>0.0</td>\n",
       "    </tr>\n",
       "    <tr>\n",
       "      <td>16273</td>\n",
       "      <td>2019-02-03</td>\n",
       "      <td>2018</td>\n",
       "      <td>1</td>\n",
       "      <td>1</td>\n",
       "      <td>LAR</td>\n",
       "      <td>NE</td>\n",
       "      <td>1666.969395</td>\n",
       "      <td>1686.338837</td>\n",
       "      <td>0.472154</td>\n",
       "      <td>3</td>\n",
       "      <td>13</td>\n",
       "      <td>0.0</td>\n",
       "    </tr>\n",
       "  </tbody>\n",
       "</table>\n",
       "<p>16274 rows × 12 columns</p>\n",
       "</div>"
      ],
      "text/plain": [
       "             date  season  neutral  playoff team1 team2         elo1  \\\n",
       "0      1920-09-26    1920        0        0   RII   STP  1503.947000   \n",
       "1      1920-10-03    1920        0        0   AKR   WHE  1503.420000   \n",
       "2      1920-10-03    1920        0        0   RCH   ABU  1503.420000   \n",
       "3      1920-10-03    1920        0        0   DAY   COL  1493.002000   \n",
       "4      1920-10-03    1920        0        0   RII   MUN  1516.108000   \n",
       "...           ...     ...      ...      ...   ...   ...          ...   \n",
       "16269  2019-01-13    2018        0        1    NE   LAC  1640.171960   \n",
       "16270  2019-01-13    2018        0        1    NO   PHI  1669.105861   \n",
       "16271  2019-01-20    2018        0        1    NO   LAR  1682.450194   \n",
       "16272  2019-01-20    2018        0        1    KC    NE  1675.286412   \n",
       "16273  2019-02-03    2018        1        1   LAR    NE  1666.969395   \n",
       "\n",
       "              elo2  elo_prob1  score1  score2  result1  \n",
       "0      1300.000000   0.824651      48       0      1.0  \n",
       "1      1300.000000   0.824212      43       0      1.0  \n",
       "2      1300.000000   0.824212      10       0      1.0  \n",
       "3      1504.908000   0.575819      14       0      1.0  \n",
       "4      1478.004000   0.644171      45       0      1.0  \n",
       "...            ...        ...     ...     ...      ...  \n",
       "16269  1647.624483   0.582068      41      28      1.0  \n",
       "16270  1633.114673   0.641378      20      14      1.0  \n",
       "16271  1648.424105   0.638772      23      26      0.0  \n",
       "16272  1661.668566   0.611248      31      37      0.0  \n",
       "16273  1686.338837   0.472154       3      13      0.0  \n",
       "\n",
       "[16274 rows x 12 columns]"
      ]
     },
     "execution_count": 4,
     "metadata": {},
     "output_type": "execute_result"
    }
   ],
   "source": [
    "df_nfl_games"
   ]
  },
  {
   "cell_type": "markdown",
   "metadata": {},
   "source": [
    "# Transform Data"
   ]
  },
  {
   "cell_type": "markdown",
   "metadata": {},
   "source": [
    "The year is important to define the team identity but the specific date is less relevant so we drop the date. Whether it is a playoff game is also dropped but the neutral site is kept because teams normally play better at home. The result is also dropped because that doesn't directly play into the score (although it indicates which team has more but I feel this will be less useful in a regression model compared to say a machine learning model)."
   ]
  },
  {
   "cell_type": "code",
   "execution_count": 5,
   "metadata": {},
   "outputs": [],
   "source": [
    "df_data = df_nfl_games.drop(labels=['date','playoff','result1','elo_prob1','score1','score2'],axis=1)\n",
    "df_labels = df_nfl_games.drop(labels=['date','season','neutral','playoff','team1','team2','elo1','elo2','result1','elo_prob1'],axis=1)"
   ]
  },
  {
   "cell_type": "markdown",
   "metadata": {},
   "source": [
    "I tested the regression model using each elo separately and with the elo differential and the elo differential gave a better accuracy on each score by .3 points. The team name is then one-hot encoded because the teams are still important as many teams are good at offense and bad at defense or vice-versa and this will play into their score."
   ]
  },
  {
   "cell_type": "code",
   "execution_count": 6,
   "metadata": {},
   "outputs": [],
   "source": [
    "elo_differntial = df_data['elo1'] - df_data['elo2']\n",
    "df_data['elo_differential'] = elo_differntial\n",
    "df_data = df_data.drop(labels=['elo1','elo2'],axis=1)\n",
    "df_data = pd.get_dummies(df_data,columns=['team1','team2'])"
   ]
  },
  {
   "cell_type": "markdown",
   "metadata": {},
   "source": [
    "The new feature dataframe that will be fed to the regression model"
   ]
  },
  {
   "cell_type": "code",
   "execution_count": 7,
   "metadata": {},
   "outputs": [
    {
     "ename": "NameError",
     "evalue": "name 'df_features' is not defined",
     "output_type": "error",
     "traceback": [
      "\u001b[1;31m---------------------------------------------------------------------------\u001b[0m",
      "\u001b[1;31mNameError\u001b[0m                                 Traceback (most recent call last)",
      "\u001b[1;32m<ipython-input-7-1d4a085a1004>\u001b[0m in \u001b[0;36m<module>\u001b[1;34m()\u001b[0m\n\u001b[1;32m----> 1\u001b[1;33m \u001b[0mdf_features\u001b[0m\u001b[1;33m\u001b[0m\u001b[0m\n\u001b[0m",
      "\u001b[1;31mNameError\u001b[0m: name 'df_features' is not defined"
     ]
    }
   ],
   "source": [
    "df_features"
   ]
  },
  {
   "cell_type": "markdown",
   "metadata": {},
   "source": [
    "The label for each game that will be fed to the regression model"
   ]
  },
  {
   "cell_type": "code",
   "execution_count": null,
   "metadata": {},
   "outputs": [],
   "source": [
    "df_labels"
   ]
  },
  {
   "cell_type": "markdown",
   "metadata": {},
   "source": [
    "# Build Model"
   ]
  },
  {
   "cell_type": "code",
   "execution_count": null,
   "metadata": {},
   "outputs": [],
   "source": [
    "regressor = LinearRegression()\n",
    "x = df_data.values\n",
    "y = df_labels.values\n",
    "regressor.fit(x,y)\n",
    "guess = regressor.predict(x)"
   ]
  },
  {
   "cell_type": "markdown",
   "metadata": {},
   "source": [
    "# Evaluate Model"
   ]
  },
  {
   "cell_type": "markdown",
   "metadata": {},
   "source": [
    "The error is rounded because that is the value that would be used if this model were actually used as a predictor."
   ]
  },
  {
   "cell_type": "code",
   "execution_count": null,
   "metadata": {},
   "outputs": [],
   "source": [
    "def get_accuracy_given_error(error,limit):\n",
    "    rounded_error = np.round(error)\n",
    "    completely_accurate = 0\n",
    "    for i in range(len(rounded_error)):\n",
    "        a,b = rounded_error[i]\n",
    "        if a <= limit:\n",
    "            completely_accurate += 1\n",
    "        if b <= limit:\n",
    "            completely_accurate += 1\n",
    "    return completely_accurate/(2*len(rounded_error))"
   ]
  },
  {
   "cell_type": "code",
   "execution_count": null,
   "metadata": {},
   "outputs": [],
   "source": [
    "error = abs(y-guess)\n",
    "avg_error = sum(error)/len(error)\n",
    "print(\"Average Error:\",round(sum(avg_error)/2,ndigits=3), \"points\")\n",
    "limit_0 = round(100*get_accuracy_given_error(error,0))\n",
    "limit_3 = round(100*get_accuracy_given_error(error,3))\n",
    "limit_7 = round(100*get_accuracy_given_error(error,7))\n",
    "print(\"Probability of guessing teams score correctly:\", str(limit_0)+'%')\n",
    "print(\"Probability of guessing teams score within a field goal:\", str(limit_3)+'%')\n",
    "print(\"Probability of guessing teams score within a touchdown:\", str(limit_7)+'%')"
   ]
  },
  {
   "cell_type": "markdown",
   "metadata": {},
   "source": [
    "8 point error is decent. This model functions okay but is probably not accurate enough to be used in a real world setting."
   ]
  }
 ],
 "metadata": {
  "kernelspec": {
   "display_name": "Python 3",
   "language": "python",
   "name": "python3"
  },
  "language_info": {
   "codemirror_mode": {
    "name": "ipython",
    "version": 3
   },
   "file_extension": ".py",
   "mimetype": "text/x-python",
   "name": "python",
   "nbconvert_exporter": "python",
   "pygments_lexer": "ipython3",
   "version": "3.7.0"
  }
 },
 "nbformat": 4,
 "nbformat_minor": 2
}
